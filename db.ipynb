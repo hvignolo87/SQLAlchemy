{
 "cells": [
  {
   "cell_type": "markdown",
   "metadata": {},
   "source": [
    "# SQLAlchemy\n",
    "This notebook shows an example of how to use SQLAlchemy module in python to perform CRUD operations in a SQL database (PostgreSQL in this case). Also you will see the link with pandas package."
   ]
  },
  {
   "cell_type": "markdown",
   "metadata": {},
   "source": [
    "## 1. Libraries importation"
   ]
  },
  {
   "cell_type": "code",
   "execution_count": 1,
   "metadata": {},
   "outputs": [],
   "source": [
    "# For DB connection and queries handling\n",
    "from sqlalchemy import create_engine, text\n",
    "\n",
    "# For credentials\n",
    "from configparser import ConfigParser\n",
    "\n",
    "# Pandas\n",
    "import pandas as pd\n",
    "\n",
    "# Sys for exit needed\n",
    "import sys\n",
    "\n",
    "# For paths\n",
    "import os"
   ]
  },
  {
   "cell_type": "markdown",
   "metadata": {},
   "source": [
    "## 2. Create the engine (DB connection)\n",
    "SQLAlchemy gives us a few options for managing database connections, but they all begin with the concept of an engine. An \"engine\" is a Python object representing a database. The syntax for creating an engine is refreshingly simple. The method `create_engine()` requires one positional argument, which is a URI representing the connection information to connect to a database. This URI has the following structure:\n",
    "\n",
    "`[DB_TYPE]+[DB_CONNECTOR]://[USERNAME]:[PASSWORD]@[HOST]:[PORT]/[DB_NAME]`\n",
    "\n",
    "Where:\n",
    "- `DB_TYPE`: is the DB type, such as MySQL (mysql), PostgreSQL (postgresql), SQLite (sqlite), Oracle (oracle), etc.\n",
    "- `DB_CONNECTOR`: is the database connection library (dialect) you chose to use. For PostgreSQL: psycopg2, pg8000.\n",
    "- `USERNAME` & `PASSWORD`: the user and password to access the DB.\n",
    "- `HOST` & `PORT`: the DB URL and port.\n",
    "- `DB_NAME`: the name of the DB you want to access."
   ]
  },
  {
   "cell_type": "code",
   "execution_count": 2,
   "metadata": {},
   "outputs": [],
   "source": [
    "# Parse data from the .ini file\n",
    "config = ConfigParser()\n",
    "\n",
    "# Path to the .ini file\n",
    "ini_path = os.path.join(os.getcwd(), 'db_data.ini')\n",
    "\n",
    "# Read the configuration file\n",
    "if os.path.isfile(ini_path):\n",
    "    config.read(ini_path)\n",
    "else:\n",
    "    print('ERROR: Please, check the db_data.ini file.')\n",
    "    sys.exit()\n",
    "\n",
    "# Load the credentials\n",
    "USER = config['PostgreSQL']['user']\n",
    "PASS = config['PostgreSQL']['pass']\n",
    "HOST = config['PostgreSQL']['host']\n",
    "PORT = config['PostgreSQL']['port']\n",
    "DB_NAME = config['PostgreSQL']['db_name']\n",
    "\n",
    "try: \n",
    "    # Connect to the DB\n",
    "    engine = create_engine(\n",
    "        f\"postgresql+psycopg2://{USER}:{PASS}@{HOST}:{PORT}/{DB_NAME}\"\n",
    "    )\n",
    "except:\n",
    "    print('Something went wrong with the DB connection')\n",
    "    sys.exit()"
   ]
  },
  {
   "cell_type": "markdown",
   "metadata": {},
   "source": [
    "## 3. CRUD Operations\n",
    "Once the connection is stablished, there are 2 ways to perform CRUD operations:\n",
    "- Directly with the `engine` object (called explicit connectionless execution), meaning no `commit()` is needed.\n",
    "- With a [scopped session](https://docs.sqlalchemy.org/en/14/orm/contextual.html#unitofwork-contextual), which needs the `commit()` execution after the query statement.\n",
    "\n",
    "In this notebook we'll use conectionless execution, but in the practice it's a very little difference between the two methods.\n",
    "\n",
    "The `text()` method escapes dangerous characters found in queries in order to avoid problems with the execution."
   ]
  },
  {
   "cell_type": "markdown",
   "metadata": {},
   "source": [
    "### 3.1 Create\n",
    "Fisrt, let's create the tables we are going to work with."
   ]
  },
  {
   "cell_type": "code",
   "execution_count": 3,
   "metadata": {},
   "outputs": [
    {
     "data": {
      "text/plain": [
       "<sqlalchemy.engine.cursor.LegacyCursorResult at 0x14df629d100>"
      ]
     },
     "execution_count": 3,
     "metadata": {},
     "output_type": "execute_result"
    }
   ],
   "source": [
    "# Define the query\n",
    "q = \"\"\"\n",
    "    CREATE TABLE IF NOT EXISTS aerolineas\n",
    "    (\n",
    "        id_aerolinea INT NOT NULL,\n",
    "        nombre_aerolinea VARCHAR(20),\n",
    "        PRIMARY KEY(id_aerolinea)\n",
    "    );\n",
    "    \"\"\"\n",
    "\n",
    "# Execute it\n",
    "engine.execute(text(q))\n",
    "\n",
    "# Define the query\n",
    "q = \"\"\"\n",
    "    CREATE TABLE IF NOT EXISTS aeropuertos\n",
    "    (\n",
    "        id_aeropuerto INT NOT NULL,\n",
    "        nombre_aeropuerto VARCHAR(20),\n",
    "        PRIMARY KEY(id_aeropuerto)\n",
    "    );\n",
    "    \"\"\"\n",
    "\n",
    "# Execute it\n",
    "engine.execute(text(q))\n",
    "\n",
    "# Define the query\n",
    "q = \"\"\"\n",
    "    CREATE TABLE IF NOT EXISTS movimientos\n",
    "    (\n",
    "        id_movimiento INT NOT NULL,\n",
    "        descripcion VARCHAR(20),\n",
    "        PRIMARY KEY(id_movimiento)\n",
    "    );\n",
    "    \"\"\"\n",
    "\n",
    "# Execute it\n",
    "engine.execute(text(q))\n",
    "\n",
    "# Define the query\n",
    "q = \"\"\"\n",
    "    CREATE TABLE vuelos\n",
    "    (\n",
    "        id_aerolinea INT NOT NULL,\n",
    "        id_aeropuerto INT NOT NULL,\n",
    "        id_movimiento INT NOT NULL,\n",
    "        dia DATE\n",
    "    );\n",
    "    \"\"\"\n",
    "\n",
    "# Execute it\n",
    "engine.execute(text(q))"
   ]
  },
  {
   "cell_type": "markdown",
   "metadata": {},
   "source": [
    "Now, let's insert some rows in each table."
   ]
  },
  {
   "cell_type": "code",
   "execution_count": 4,
   "metadata": {},
   "outputs": [
    {
     "data": {
      "text/plain": [
       "<sqlalchemy.engine.cursor.LegacyCursorResult at 0x14df628ed00>"
      ]
     },
     "execution_count": 4,
     "metadata": {},
     "output_type": "execute_result"
    }
   ],
   "source": [
    "engine.execute(\n",
    "    text(\n",
    "        \"\"\"\n",
    "        INSERT INTO aerolineas VALUES\n",
    "        (1, 'Volaris'), (2, 'Aeromar'), \n",
    "        (3, 'Interjet'), (4, 'Aeromexico');\n",
    "        \"\"\"\n",
    "    )\n",
    ")\n",
    "\n",
    "engine.execute(\n",
    "    text(\n",
    "        \"\"\"\n",
    "        INSERT INTO aeropuertos VALUES\n",
    "        (1, 'Benito Juarez'), (2, 'Guanajuato'), \n",
    "        (3, 'La Paz'), (4, 'Oaxaca');\n",
    "        \"\"\"\n",
    "    )\n",
    ")\n",
    "\n",
    "engine.execute(\n",
    "    text(\n",
    "        \"\"\"\n",
    "        INSERT INTO movimientos VALUES\n",
    "        (1, 'Salida'), (2, 'Llegada');\n",
    "        \"\"\"\n",
    "    )\n",
    ")\n",
    "\n",
    "engine.execute(\n",
    "    text(\n",
    "        \"\"\"\n",
    "        INSERT INTO vuelos VALUES\n",
    "        (1, 1, 1, '2021-05-02'), \n",
    "        (2, 1, 1, '2021-05-02'), \n",
    "        (3, 2, 2, '2021-05-02'), \n",
    "        (4, 3, 2, '2021-05-02'), \n",
    "        (1, 3, 2, '2021-05-02'), \n",
    "        (2, 1, 1, '2021-05-02'), \n",
    "        (2, 3, 1, '2021-05-04'), \n",
    "        (3, 4, 1, '2021-05-04'), \n",
    "        (3, 4, 1, '2021-05-04');\n",
    "        \"\"\"\n",
    "    )\n",
    ")"
   ]
  },
  {
   "cell_type": "markdown",
   "metadata": {},
   "source": [
    "### 3.2 Read\n",
    "Let's visualize the entire tables and then let's ask some questions."
   ]
  },
  {
   "cell_type": "code",
   "execution_count": 5,
   "metadata": {},
   "outputs": [
    {
     "name": "stdout",
     "output_type": "stream",
     "text": [
      "Table: Aerolíneas\n",
      "There were 4 rows selected.\n",
      "('id_aerolinea', 'nombre_aerolinea')\n",
      "(1, 'Volaris')\n",
      "(2, 'Aeromar')\n",
      "(3, 'Interjet')\n",
      "(4, 'Aeromexico')\n",
      "\n",
      "Table: Aeropuertos\n",
      "There were 4 rows selected.\n",
      "('id_aeropuerto', 'nombre_aeropuerto')\n",
      "(1, 'Benito Juarez')\n",
      "(2, 'Guanajuato')\n",
      "(3, 'La Paz')\n",
      "(4, 'Oaxaca')\n",
      "\n",
      "Table: Movimientos\n",
      "There were 2 rows selected.\n",
      "('id_movimiento', 'descripcion')\n",
      "(1, 'Salida')\n",
      "(2, 'Llegada')\n",
      "\n",
      "Table: Vuelos\n",
      "There were 9 rows selected.\n",
      "('id_aerolinea', 'id_aeropuerto', 'id_movimiento', 'dia')\n",
      "(1, 1, 1, '02/05/2021')\n",
      "(2, 1, 1, '02/05/2021')\n",
      "(3, 2, 2, '02/05/2021')\n",
      "(4, 3, 2, '02/05/2021')\n",
      "(1, 3, 2, '02/05/2021')\n",
      "(2, 1, 1, '02/05/2021')\n",
      "(2, 3, 1, '04/05/2021')\n",
      "(3, 4, 1, '04/05/2021')\n",
      "(3, 4, 1, '04/05/2021')\n"
     ]
    }
   ],
   "source": [
    "# Table aerolíneas\n",
    "result = engine.execute(text(\"select * FROM aerolineas;\"))\n",
    "print('Table: Aerolíneas')\n",
    "print(f'There were {result.rowcount} rows selected.')\n",
    "print(tuple(result.keys()))\n",
    "for row in result.fetchall():\n",
    "    print(row)\n",
    "\n",
    "# Table aeropuertos\n",
    "result = engine.execute(text(\"SELECT * FROM aeropuertos;\"))\n",
    "print('\\nTable: Aeropuertos')\n",
    "print(f'There were {result.rowcount} rows selected.')\n",
    "print(tuple(result.keys()))\n",
    "for row in result.fetchall():\n",
    "    print(row)\n",
    "\n",
    "\n",
    "# Table movimientos\n",
    "result = engine.execute(text(\"SELECT * FROM movimientos;\"))\n",
    "print('\\nTable: Movimientos')\n",
    "print(f'There were {result.rowcount} rows selected.')\n",
    "print(tuple(result.keys()))\n",
    "for row in result.fetchall():\n",
    "    print(row)\n",
    "\n",
    "\n",
    "# Table vuelos\n",
    "result = engine.execute(\n",
    "    text(\n",
    "        \"\"\"\n",
    "        SELECT \n",
    "        id_aerolinea, \n",
    "        id_aeropuerto,\n",
    "        id_movimiento,\n",
    "        TO_CHAR(dia, 'DD/MM/YYYY') AS dia\n",
    "        FROM vuelos;\n",
    "        \"\"\"\n",
    "    )\n",
    ")\n",
    "print('\\nTable: Vuelos')\n",
    "print(f'There were {result.rowcount} rows selected.')\n",
    "print(tuple(result.keys()))\n",
    "for row in result.fetchall():\n",
    "    print(row)\n"
   ]
  },
  {
   "cell_type": "markdown",
   "metadata": {},
   "source": [
    "¿What is the name of the airport that has had the most movement during the year?"
   ]
  },
  {
   "cell_type": "code",
   "execution_count": 6,
   "metadata": {},
   "outputs": [
    {
     "name": "stdout",
     "output_type": "stream",
     "text": [
      "nombre_aeropuerto\n",
      "Benito Juarez\n",
      "La Paz\n"
     ]
    }
   ],
   "source": [
    "result = engine.execute(\n",
    "    text(\n",
    "        \"\"\"\n",
    "        SELECT nombre_aeropuerto\n",
    "        FROM aeropuertos\n",
    "        INNER JOIN vuelos\n",
    "        ON vuelos.id_aeropuerto = aeropuertos.id_aeropuerto\n",
    "        GROUP BY nombre_aeropuerto\n",
    "        HAVING COUNT(vuelos.id_movimiento) = \n",
    "        (\n",
    "            SELECT COUNT(id_movimiento) AS mov_count\n",
    "            FROM vuelos\n",
    "            GROUP BY id_aeropuerto\n",
    "            ORDER BY mov_count DESC \n",
    "            LIMIT 1\n",
    "        );\n",
    "        \"\"\"\n",
    "    )\n",
    ")\n",
    "\n",
    "print(tuple(result.keys())[0])\n",
    "for row in result.fetchall():\n",
    "    print(row[0])"
   ]
  },
  {
   "cell_type": "markdown",
   "metadata": {},
   "source": [
    "¿What is the airline name you have made greatest number of flights during the year?"
   ]
  },
  {
   "cell_type": "code",
   "execution_count": 7,
   "metadata": {},
   "outputs": [
    {
     "name": "stdout",
     "output_type": "stream",
     "text": [
      "nombre_aerolinea\n",
      "Aeromar\n",
      "Interjet\n"
     ]
    }
   ],
   "source": [
    "result = engine.execute(\n",
    "    text(\n",
    "        \"\"\"\n",
    "        SELECT nombre_aerolinea\n",
    "        FROM aerolineas\n",
    "        INNER JOIN vuelos\n",
    "        ON vuelos.id_aerolinea = aerolineas.id_aerolinea\n",
    "        GROUP BY nombre_aerolinea\n",
    "        HAVING COUNT(vuelos.id_movimiento) = \n",
    "        (\n",
    "            SELECT COUNT(id_movimiento) AS mov_count\n",
    "            FROM vuelos\n",
    "            GROUP BY id_aerolinea\n",
    "            ORDER BY mov_count DESC \n",
    "            LIMIT 1\n",
    "        );\n",
    "        \"\"\"\n",
    "    )\n",
    ")\n",
    "\n",
    "print(tuple(result.keys())[0])\n",
    "for row in result.fetchall():\n",
    "    print(row[0])"
   ]
  },
  {
   "cell_type": "markdown",
   "metadata": {},
   "source": [
    "¿On which day have there been the greatest number of flights?"
   ]
  },
  {
   "cell_type": "code",
   "execution_count": 8,
   "metadata": {},
   "outputs": [
    {
     "name": "stdout",
     "output_type": "stream",
     "text": [
      "dia\n",
      "02/05/2021\n"
     ]
    }
   ],
   "source": [
    "result = engine.execute(\n",
    "    text(\n",
    "        \"\"\"\n",
    "        SELECT \n",
    "        TO_CHAR(dia, 'DD/MM/YYYY') AS dia\n",
    "        FROM vuelos\n",
    "        GROUP BY dia\n",
    "        HAVING COUNT(dia) = \n",
    "        (\n",
    "            SELECT COUNT(dia)\n",
    "            FROM vuelos \n",
    "            GROUP BY dia\n",
    "            ORDER BY dia ASC\n",
    "            LIMIT 1\n",
    "        );\n",
    "        \"\"\"\n",
    "    )\n",
    ")\n",
    "\n",
    "print(tuple(result.keys())[0])\n",
    "for row in result.fetchall():\n",
    "    print(row[0])"
   ]
  },
  {
   "cell_type": "markdown",
   "metadata": {},
   "source": [
    "### 3.3 Update"
   ]
  }
 ],
 "metadata": {
  "interpreter": {
   "hash": "ad2bdc8ecc057115af97d19610ffacc2b4e99fae6737bb82f5d7fb13d2f2c186"
  },
  "kernelspec": {
   "display_name": "Python 3 (ipykernel)",
   "language": "python",
   "name": "python3"
  },
  "language_info": {
   "codemirror_mode": {
    "name": "ipython",
    "version": 3
   },
   "file_extension": ".py",
   "mimetype": "text/x-python",
   "name": "python",
   "nbconvert_exporter": "python",
   "pygments_lexer": "ipython3",
   "version": "3.8.13"
  }
 },
 "nbformat": 4,
 "nbformat_minor": 2
}
